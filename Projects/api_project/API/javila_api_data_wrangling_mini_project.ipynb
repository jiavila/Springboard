{
 "cells": [
  {
   "cell_type": "markdown",
   "metadata": {},
   "source": [
    "# 1. Collect data"
   ]
  },
  {
   "cell_type": "code",
   "execution_count": 114,
   "metadata": {},
   "outputs": [],
   "source": [
    "# Imports and Key\n",
    "import requests\n",
    "API_KEY = '_insert_your_api_key_here'\n",
    "\n"
   ]
  },
  {
   "cell_type": "code",
   "execution_count": 59,
   "metadata": {},
   "outputs": [],
   "source": [
    "# Make a request for our data\n",
    "start_date = \"2017-01-01\"\n",
    "end_date = \"2017-12-31\"\n",
    "afx_request = requests.get(\"https://www.quandl.com/api/v3/datasets/FSE/AFX_X/data.json?start_date=\" + start_date + \"&end_date=\" + end_date + \n",
    "                 \"&api_key=\" + API_KEY)\n"
   ]
  },
  {
   "cell_type": "markdown",
   "metadata": {},
   "source": [
    "# 2. Convert json to dict"
   ]
  },
  {
   "cell_type": "code",
   "execution_count": 122,
   "metadata": {},
   "outputs": [
    {
     "name": "stdout",
     "output_type": "stream",
     "text": [
      "-------------------------------------------------------------------\n",
      "<class 'dict'>\n",
      "-------------------------------------------------------------------\n"
     ]
    }
   ],
   "source": [
    "afx_dict = dict(afx_request.json())\n",
    "print('-------------------------------------------------------------------')\n",
    "print(type(afx_dict))\n",
    "print('-------------------------------------------------------------------')"
   ]
  },
  {
   "cell_type": "code",
   "execution_count": 61,
   "metadata": {},
   "outputs": [
    {
     "data": {
      "text/plain": [
       "dict_keys(['limit', 'transform', 'column_index', 'column_names', 'start_date', 'end_date', 'frequency', 'data', 'collapse', 'order'])"
      ]
     },
     "execution_count": 61,
     "metadata": {},
     "output_type": "execute_result"
    }
   ],
   "source": [
    "# show dict keys\n",
    "afx_dict['dataset_data'].keys()"
   ]
  },
  {
   "cell_type": "code",
   "execution_count": 62,
   "metadata": {},
   "outputs": [
    {
     "data": {
      "text/plain": [
       "['Date',\n",
       " 'Open',\n",
       " 'High',\n",
       " 'Low',\n",
       " 'Close',\n",
       " 'Change',\n",
       " 'Traded Volume',\n",
       " 'Turnover',\n",
       " 'Last Price of the Day',\n",
       " 'Daily Traded Units',\n",
       " 'Daily Turnover']"
      ]
     },
     "execution_count": 62,
     "metadata": {},
     "output_type": "execute_result"
    }
   ],
   "source": [
    "# show column names\n",
    "afx_dict['dataset_data']['column_names']"
   ]
  },
  {
   "cell_type": "markdown",
   "metadata": {},
   "source": [
    "# 3. Calculate highest and lowest opening prices"
   ]
  },
  {
   "cell_type": "code",
   "execution_count": 77,
   "metadata": {
    "scrolled": true
   },
   "outputs": [
    {
     "name": "stdout",
     "output_type": "stream",
     "text": [
      "afx_data[0]: \n",
      "['2017-12-29', 51.76, 51.94, 51.45, 51.76, None, 34640.0, 1792304.0, None, None, None]\n",
      "\n",
      "afx_data[-1]: \n",
      "['2017-01-02', 34.99, 35.94, 34.99, 35.8, None, 44700.0, 1590561.0, None, None, None]\n",
      "\n",
      "afx_data_open[0]: 51.76\n",
      "afx_data_open[-1]: 34.99\n"
     ]
    }
   ],
   "source": [
    "# get our data. From inspecting the 'column_names' subkey, we found that \n",
    "# the 'Open'--the 2nd column--contains the all the opening prices.\n",
    "afx_data = afx_dict['dataset_data']['data']\n",
    "\n",
    "# Use a list comprehension to return the open data; only return type float\n",
    "# Data contains None in some entries; we don't want those.\n",
    "afx_data_open = [row[1] for row in afx_data if type(row[1]) == float]\n",
    "\n",
    "# Visually inspect that we accessed correct data\n",
    "print('afx_data[0]: ')\n",
    "print(afx_data[0])\n",
    "print()\n",
    "print('afx_data[-1]: ')\n",
    "print(afx_data[-1])\n",
    "print()\n",
    "print('afx_data_open[0]: ' + str(afx_data_open[0]))\n",
    "print('afx_data_open[-1]: ' + str(afx_data_open[-1]))\n"
   ]
  },
  {
   "cell_type": "code",
   "execution_count": 120,
   "metadata": {},
   "outputs": [
    {
     "name": "stdout",
     "output_type": "stream",
     "text": [
      "-------------------------------------------------------------------\n",
      "2017 lowest opening price of AFX_X: $34.0\n",
      "2017 highest opening price of AFX_X: $53.11\n",
      "-------------------------------------------------------------------\n"
     ]
    }
   ],
   "source": [
    "# Calculate and print the min and max\n",
    "print('-------------------------------------------------------------------')\n",
    "print('2017 lowest opening price of AFX_X: $' + str(min(afx_data_open)))\n",
    "print('2017 highest opening price of AFX_X: $' + str(max(afx_data_open)))\n",
    "print('-------------------------------------------------------------------')"
   ]
  },
  {
   "cell_type": "markdown",
   "metadata": {},
   "source": [
    "# 4. Largest daily change\n",
    "To compute the largest change, we'll subtract the high and low prices, take the absolute value, and get the maximum."
   ]
  },
  {
   "cell_type": "code",
   "execution_count": 104,
   "metadata": {},
   "outputs": [],
   "source": [
    "# Get our data\n",
    "# remove None values from both if found in either high or low columns\n",
    "# Compute the absolute difference for each retrieved high low\n",
    "# Get the maximum value of the list and store in a variable\n",
    "afx_data_high_low_abs_diff_max = max([abs(row[2] - row[3]) for row in afx_data if \n",
    "                     (type(row[2]) == float) & (type(row[3]) == float)])\n",
    "\n"
   ]
  },
  {
   "cell_type": "code",
   "execution_count": 119,
   "metadata": {},
   "outputs": [
    {
     "name": "stdout",
     "output_type": "stream",
     "text": [
      "-------------------------------------------------------------------\n",
      "The largest daily change for AFX_X in 2017 was $2.81\n",
      "-------------------------------------------------------------------\n"
     ]
    }
   ],
   "source": [
    "print('-------------------------------------------------------------------')\n",
    "print('The largest daily change for AFX_X in 2017 was $' + \n",
    "      str(round(afx_data_high_low_abs_diff, 2)))\n",
    "print('-------------------------------------------------------------------')"
   ]
  },
  {
   "cell_type": "markdown",
   "metadata": {},
   "source": [
    "# 5. Largest change between any two days\n",
    "This is going to assume that it is referring to any two *consecutive* days, since it is unclear from the question."
   ]
  },
  {
   "cell_type": "code",
   "execution_count": 144,
   "metadata": {},
   "outputs": [],
   "source": [
    "# For loop to access list of data, compute the absolute difference between\n",
    "# the current day and the next only if both are floats, store our result in\n",
    "# curr_max only if the curr_diff is greater than curr_max\n",
    "curr_max = 0\n",
    "for idx, row in enumerate(afx_data):\n",
    "    if (idx != 0) & (idx != (len(afx_data)-1)): # don't compute max on first and last\n",
    "        price_close_next = afx_data[idx + 1][4]\n",
    "        price_close_curr = afx_data[idx][4]\n",
    "        if (type(price_close_next) == float) & (type(price_close_curr) == float):\n",
    "            curr_diff = abs(price_close_next - price_close_curr)\n",
    "            if  curr_diff > curr_max:  # only store if the current diff is \n",
    "                curr_max = curr_diff\n",
    "\n",
    "\n",
    "\n"
   ]
  },
  {
   "cell_type": "code",
   "execution_count": 143,
   "metadata": {},
   "outputs": [
    {
     "name": "stdout",
     "output_type": "stream",
     "text": [
      "-------------------------------------------------------------------\n",
      "The largest change between two consecutive days for AFX_X in 2017 was $2.56\n",
      "-------------------------------------------------------------------\n"
     ]
    }
   ],
   "source": [
    "# Print our result\n",
    "print('-------------------------------------------------------------------')\n",
    "print('The largest change between two consecutive days for AFX_X in 2017 was $' + \n",
    "      str(round(curr_max, 2)))\n",
    "print('-------------------------------------------------------------------')"
   ]
  },
  {
   "cell_type": "markdown",
   "metadata": {},
   "source": [
    "# 6. Average daily trading volume"
   ]
  },
  {
   "cell_type": "code",
   "execution_count": 155,
   "metadata": {},
   "outputs": [
    {
     "name": "stdout",
     "output_type": "stream",
     "text": [
      "-------------------------------------------------------------------\n",
      "The average daily trading volume for AFX_X in 2017 was 89124\n",
      "-------------------------------------------------------------------\n"
     ]
    }
   ],
   "source": [
    "# Similar to 3. but computing the average\n",
    "afx_data_trad_vol = [row[6] for row in afx_data if type(row[6]) == float]\n",
    "afx_data_trad_vol_avg = round(sum(afx_data_trad_vol)/len(afx_data_trad_vol))\n",
    "print('-------------------------------------------------------------------')\n",
    "print('The average daily trading volume for AFX_X in 2017 was ' + \n",
    "      str(afx_data_trad_vol_avg))\n",
    "print('-------------------------------------------------------------------')"
   ]
  },
  {
   "cell_type": "code",
   "execution_count": null,
   "metadata": {},
   "outputs": [],
   "source": []
  },
  {
   "cell_type": "code",
   "execution_count": null,
   "metadata": {},
   "outputs": [],
   "source": []
  },
  {
   "cell_type": "code",
   "execution_count": null,
   "metadata": {},
   "outputs": [],
   "source": []
  },
  {
   "cell_type": "code",
   "execution_count": null,
   "metadata": {},
   "outputs": [],
   "source": []
  }
 ],
 "metadata": {
  "kernelspec": {
   "display_name": "Python 3",
   "language": "python",
   "name": "python3"
  },
  "language_info": {
   "codemirror_mode": {
    "name": "ipython",
    "version": 3
   },
   "file_extension": ".py",
   "mimetype": "text/x-python",
   "name": "python",
   "nbconvert_exporter": "python",
   "pygments_lexer": "ipython3",
   "version": "3.7.4"
  }
 },
 "nbformat": 4,
 "nbformat_minor": 2
}
