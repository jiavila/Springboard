{
 "cells": [
  {
   "cell_type": "markdown",
   "metadata": {},
   "source": [
    "# One Hashtag is for a main section\n",
    "\n",
    "## Two hashtags are for a subsection, etc.\n",
    "\n",
    "*An asterisk is for italicizing text*\n",
    "\n",
    "**Bold are two asterisks at the beginning and end**\n",
    "\n",
    "1. Do numbers do anything?\n",
    "2. Let's see.\n",
    "3. Yes, they get indented automatically."
   ]
  },
  {
   "cell_type": "code",
   "execution_count": 7,
   "metadata": {},
   "outputs": [],
   "source": [
    "name = 'John'"
   ]
  },
  {
   "cell_type": "code",
   "execution_count": 8,
   "metadata": {},
   "outputs": [
    {
     "data": {
      "text/plain": [
       "'John'"
      ]
     },
     "execution_count": 8,
     "metadata": {},
     "output_type": "execute_result"
    }
   ],
   "source": [
    "name"
   ]
  },
  {
   "cell_type": "code",
   "execution_count": 9,
   "metadata": {
    "scrolled": true
   },
   "outputs": [
    {
     "data": {
      "application/json": {
       "cell": {
        "!": "OSMagics",
        "HTML": "Other",
        "SVG": "Other",
        "bash": "Other",
        "capture": "ExecutionMagics",
        "cmd": "Other",
        "debug": "ExecutionMagics",
        "file": "Other",
        "html": "DisplayMagics",
        "javascript": "DisplayMagics",
        "js": "DisplayMagics",
        "latex": "DisplayMagics",
        "markdown": "DisplayMagics",
        "perl": "Other",
        "prun": "ExecutionMagics",
        "pypy": "Other",
        "python": "Other",
        "python2": "Other",
        "python3": "Other",
        "ruby": "Other",
        "script": "ScriptMagics",
        "sh": "Other",
        "svg": "DisplayMagics",
        "sx": "OSMagics",
        "system": "OSMagics",
        "time": "ExecutionMagics",
        "timeit": "ExecutionMagics",
        "writefile": "OSMagics"
       },
       "line": {
        "alias": "OSMagics",
        "alias_magic": "BasicMagics",
        "autoawait": "AsyncMagics",
        "autocall": "AutoMagics",
        "automagic": "AutoMagics",
        "autosave": "KernelMagics",
        "bookmark": "OSMagics",
        "cd": "OSMagics",
        "clear": "KernelMagics",
        "cls": "KernelMagics",
        "colors": "BasicMagics",
        "conda": "PackagingMagics",
        "config": "ConfigMagics",
        "connect_info": "KernelMagics",
        "copy": "Other",
        "ddir": "Other",
        "debug": "ExecutionMagics",
        "dhist": "OSMagics",
        "dirs": "OSMagics",
        "doctest_mode": "BasicMagics",
        "echo": "Other",
        "ed": "Other",
        "edit": "KernelMagics",
        "env": "OSMagics",
        "gui": "BasicMagics",
        "hist": "Other",
        "history": "HistoryMagics",
        "killbgscripts": "ScriptMagics",
        "ldir": "Other",
        "less": "KernelMagics",
        "load": "CodeMagics",
        "load_ext": "ExtensionMagics",
        "loadpy": "CodeMagics",
        "logoff": "LoggingMagics",
        "logon": "LoggingMagics",
        "logstart": "LoggingMagics",
        "logstate": "LoggingMagics",
        "logstop": "LoggingMagics",
        "ls": "Other",
        "lsmagic": "BasicMagics",
        "macro": "ExecutionMagics",
        "magic": "BasicMagics",
        "matplotlib": "PylabMagics",
        "mkdir": "Other",
        "more": "KernelMagics",
        "notebook": "BasicMagics",
        "page": "BasicMagics",
        "pastebin": "CodeMagics",
        "pdb": "ExecutionMagics",
        "pdef": "NamespaceMagics",
        "pdoc": "NamespaceMagics",
        "pfile": "NamespaceMagics",
        "pinfo": "NamespaceMagics",
        "pinfo2": "NamespaceMagics",
        "pip": "PackagingMagics",
        "popd": "OSMagics",
        "pprint": "BasicMagics",
        "precision": "BasicMagics",
        "prun": "ExecutionMagics",
        "psearch": "NamespaceMagics",
        "psource": "NamespaceMagics",
        "pushd": "OSMagics",
        "pwd": "OSMagics",
        "pycat": "OSMagics",
        "pylab": "PylabMagics",
        "qtconsole": "KernelMagics",
        "quickref": "BasicMagics",
        "recall": "HistoryMagics",
        "rehashx": "OSMagics",
        "reload_ext": "ExtensionMagics",
        "ren": "Other",
        "rep": "Other",
        "rerun": "HistoryMagics",
        "reset": "NamespaceMagics",
        "reset_selective": "NamespaceMagics",
        "rmdir": "Other",
        "run": "ExecutionMagics",
        "save": "CodeMagics",
        "sc": "OSMagics",
        "set_env": "OSMagics",
        "store": "StoreMagics",
        "sx": "OSMagics",
        "system": "OSMagics",
        "tb": "ExecutionMagics",
        "time": "ExecutionMagics",
        "timeit": "ExecutionMagics",
        "unalias": "OSMagics",
        "unload_ext": "ExtensionMagics",
        "who": "NamespaceMagics",
        "who_ls": "NamespaceMagics",
        "whos": "NamespaceMagics",
        "xdel": "NamespaceMagics",
        "xmode": "BasicMagics"
       }
      },
      "text/plain": [
       "Available line magics:\n",
       "%alias  %alias_magic  %autoawait  %autocall  %automagic  %autosave  %bookmark  %cd  %clear  %cls  %colors  %conda  %config  %connect_info  %copy  %ddir  %debug  %dhist  %dirs  %doctest_mode  %echo  %ed  %edit  %env  %gui  %hist  %history  %killbgscripts  %ldir  %less  %load  %load_ext  %loadpy  %logoff  %logon  %logstart  %logstate  %logstop  %ls  %lsmagic  %macro  %magic  %matplotlib  %mkdir  %more  %notebook  %page  %pastebin  %pdb  %pdef  %pdoc  %pfile  %pinfo  %pinfo2  %pip  %popd  %pprint  %precision  %prun  %psearch  %psource  %pushd  %pwd  %pycat  %pylab  %qtconsole  %quickref  %recall  %rehashx  %reload_ext  %ren  %rep  %rerun  %reset  %reset_selective  %rmdir  %run  %save  %sc  %set_env  %store  %sx  %system  %tb  %time  %timeit  %unalias  %unload_ext  %who  %who_ls  %whos  %xdel  %xmode\n",
       "\n",
       "Available cell magics:\n",
       "%%!  %%HTML  %%SVG  %%bash  %%capture  %%cmd  %%debug  %%file  %%html  %%javascript  %%js  %%latex  %%markdown  %%perl  %%prun  %%pypy  %%python  %%python2  %%python3  %%ruby  %%script  %%sh  %%svg  %%sx  %%system  %%time  %%timeit  %%writefile\n",
       "\n",
       "Automagic is ON, % prefix IS NOT needed for line magics."
      ]
     },
     "execution_count": 9,
     "metadata": {},
     "output_type": "execute_result"
    }
   ],
   "source": [
    "%lsmagic"
   ]
  },
  {
   "cell_type": "code",
   "execution_count": 10,
   "metadata": {},
   "outputs": [
    {
     "data": {
      "text/plain": [
       "'C:\\\\Users\\\\jesus'"
      ]
     },
     "execution_count": 10,
     "metadata": {},
     "output_type": "execute_result"
    }
   ],
   "source": [
    "%pwd"
   ]
  },
  {
   "cell_type": "code",
   "execution_count": 11,
   "metadata": {},
   "outputs": [
    {
     "name": "stdout",
     "output_type": "stream",
     "text": [
      " Volume in drive C is Windows\n",
      " Volume Serial Number is 860A-2855\n",
      "\n",
      " Directory of C:\\Users\\jesus\n",
      "\n",
      "09/08/2019  01:03 PM    <DIR>          .\n",
      "09/08/2019  01:03 PM    <DIR>          ..\n",
      "05/20/2018  08:40 PM    <DIR>          .android\n",
      "05/20/2018  10:52 AM    <DIR>          .AndroidStudio3.1\n",
      "09/06/2019  08:13 PM    <DIR>          .astropy\n",
      "05/02/2019  09:30 PM               173 .bash_history\n",
      "12/23/2018  12:32 PM    <DIR>          .cisco\n",
      "09/06/2019  08:08 PM    <DIR>          .config\n",
      "05/02/2019  05:38 PM               179 .gitconfig\n",
      "09/08/2019  12:46 PM    <DIR>          .ipynb_checkpoints\n",
      "09/06/2019  08:08 PM    <DIR>          .ipython\n",
      "09/06/2019  10:17 PM    <DIR>          .jupyter\n",
      "08/13/2019  06:35 PM    <DIR>          .matplotlib\n",
      "04/23/2019  04:07 PM    <DIR>          .PyCharmCE2019.1\n",
      "09/06/2019  08:53 PM                51 .python_history\n",
      "09/06/2019  08:09 PM    <DIR>          .spyder-py3\n",
      "09/06/2019  06:38 PM    <DIR>          3D Objects\n",
      "09/06/2019  06:38 PM    <DIR>          Contacts\n",
      "09/07/2019  07:33 PM    <DIR>          Creative Cloud Files\n",
      "09/06/2019  06:38 PM    <DIR>          Desktop\n",
      "09/06/2019  07:50 PM    <DIR>          Documents\n",
      "09/06/2019  07:37 PM    <DIR>          Downloads\n",
      "08/29/2019  12:45 PM    <DIR>          Dropbox\n",
      "09/06/2019  06:38 PM    <DIR>          Favorites\n",
      "05/15/2019  07:14 PM    <DIR>          Google Drive\n",
      "07/09/2018  12:03 AM    <DIR>          jiavila@berkeley.edu Creative Cloud Files (enterprise)\n",
      "09/06/2019  06:38 PM    <DIR>          Links\n",
      "03/31/2018  03:51 PM    <DIR>          LiveStreaming\n",
      "09/06/2019  06:38 PM    <DIR>          Music\n",
      "09/05/2019  01:34 PM    <DIR>          OneDrive\n",
      "08/15/2019  07:28 PM               476 packages.txt\n",
      "09/06/2019  06:38 PM    <DIR>          Pictures\n",
      "09/06/2019  06:38 PM    <DIR>          Saved Games\n",
      "09/06/2019  06:38 PM    <DIR>          Searches\n",
      "05/02/2019  06:15 PM    <DIR>          source\n",
      "09/08/2019  01:03 PM             7,139 Testing Jupyter.ipynb\n",
      "09/07/2019  07:10 PM               555 Untitled.ipynb\n",
      "09/06/2019  06:38 PM    <DIR>          Videos\n",
      "               6 File(s)          8,573 bytes\n",
      "              32 Dir(s)  67,620,601,856 bytes free\n"
     ]
    }
   ],
   "source": [
    "%ls"
   ]
  },
  {
   "cell_type": "code",
   "execution_count": 15,
   "metadata": {
    "scrolled": true
   },
   "outputs": [
    {
     "data": {
      "image/png": "[encoded data removed]",
      "text/plain": [
       "<Figure size 432x288 with 1 Axes>"
      ]
     },
     "metadata": {
      "needs_background": "light"
     },
     "output_type": "display_data"
    }
   ],
   "source": [
    "%matplotlib inline\n",
    "# ---------------------------------- #\n",
    "# Simple demo of a scatter plot\n",
    "# ---------------------------------- #\n",
    "import numpy as np\n",
    "import matplotlib.pyplot as plt\n",
    "\n",
    "N = 50\n",
    "x = np.random.rand(N)\n",
    "y = np.random.rand(N)\n",
    "colors = np.random.rand(N)\n",
    "area = np.pi * (15 * np.random.rand(N))**2  # 0 to 15 point radiuses\n",
    "\n",
    "plt.scatter(x, y, s=area, c=colors, alpha=0.5)\n",
    "plt.show()"
   ]
  },
  {
   "cell_type": "code",
   "execution_count": 22,
   "metadata": {
    "scrolled": true
   },
   "outputs": [
    {
     "data": {
      "text/html": [
       "<iframe width=\"560\" height=\"315\" src=\"https://www.youtube.com/watch?v=ob-Ev1-oR9g\" frameborder=\"0\" allowfullscreen></iframe>\n"
      ],
      "text/plain": [
       "<IPython.core.display.HTML object>"
      ]
     },
     "metadata": {},
     "output_type": "display_data"
    }
   ],
   "source": [
    "%%HTML \n",
    "<iframe width=\"560\" height=\"315\" src=\"https://www.youtube.com/watch?v=ob-Ev1-oR9g\" frameborder=\"0\" allowfullscreen></iframe>\n",
    "# the %%HTML command allows us to run an entire cell on html instead of making it in markdown mode (like the first cell)"
   ]
  },
  {
   "cell_type": "code",
   "execution_count": 23,
   "metadata": {},
   "outputs": [
    {
     "name": "stdout",
     "output_type": "stream",
     "text": [
      "81.5 µs ± 7.4 µs per loop (mean ± std. dev. of 7 runs, 10000 loops each)\n"
     ]
    }
   ],
   "source": [
    "%%timeit\n",
    "square_evens = [n*n for n in range(1000)]"
   ]
  },
  {
   "cell_type": "code",
   "execution_count": 33,
   "metadata": {
    "scrolled": true
   },
   "outputs": [
    {
     "data": {
      "text/html": [
       "<div>\n",
       "<style scoped>\n",
       "    .dataframe tbody tr th:only-of-type {\n",
       "        vertical-align: middle;\n",
       "    }\n",
       "\n",
       "    .dataframe tbody tr th {\n",
       "        vertical-align: top;\n",
       "    }\n",
       "\n",
       "    .dataframe thead th {\n",
       "        text-align: right;\n",
       "    }\n",
       "</style>\n",
       "<table border=\"1\" class=\"dataframe\">\n",
       "  <thead>\n",
       "    <tr style=\"text-align: right;\">\n",
       "      <th></th>\n",
       "      <th>0</th>\n",
       "      <th>1</th>\n",
       "      <th>2</th>\n",
       "      <th>3</th>\n",
       "      <th>4</th>\n",
       "    </tr>\n",
       "  </thead>\n",
       "  <tbody>\n",
       "    <tr>\n",
       "      <th>0</th>\n",
       "      <td>-1.208514</td>\n",
       "      <td>-0.260460</td>\n",
       "      <td>-0.156958</td>\n",
       "      <td>1.241346</td>\n",
       "      <td>0.350122</td>\n",
       "    </tr>\n",
       "    <tr>\n",
       "      <th>1</th>\n",
       "      <td>-1.098389</td>\n",
       "      <td>0.429854</td>\n",
       "      <td>-0.368508</td>\n",
       "      <td>-0.174133</td>\n",
       "      <td>0.904001</td>\n",
       "    </tr>\n",
       "    <tr>\n",
       "      <th>2</th>\n",
       "      <td>0.542569</td>\n",
       "      <td>0.511498</td>\n",
       "      <td>1.291356</td>\n",
       "      <td>-0.567260</td>\n",
       "      <td>-0.311110</td>\n",
       "    </tr>\n",
       "    <tr>\n",
       "      <th>3</th>\n",
       "      <td>1.233387</td>\n",
       "      <td>2.247561</td>\n",
       "      <td>-0.551008</td>\n",
       "      <td>-0.363207</td>\n",
       "      <td>-0.251102</td>\n",
       "    </tr>\n",
       "    <tr>\n",
       "      <th>4</th>\n",
       "      <td>0.276507</td>\n",
       "      <td>-0.209283</td>\n",
       "      <td>-2.886650</td>\n",
       "      <td>1.499314</td>\n",
       "      <td>-1.194738</td>\n",
       "    </tr>\n",
       "    <tr>\n",
       "      <th>5</th>\n",
       "      <td>0.012333</td>\n",
       "      <td>1.542803</td>\n",
       "      <td>-0.710735</td>\n",
       "      <td>0.725927</td>\n",
       "      <td>-0.471423</td>\n",
       "    </tr>\n",
       "    <tr>\n",
       "      <th>6</th>\n",
       "      <td>2.108661</td>\n",
       "      <td>0.067797</td>\n",
       "      <td>-0.610029</td>\n",
       "      <td>0.154998</td>\n",
       "      <td>0.436241</td>\n",
       "    </tr>\n",
       "    <tr>\n",
       "      <th>7</th>\n",
       "      <td>0.333936</td>\n",
       "      <td>-0.714660</td>\n",
       "      <td>0.508593</td>\n",
       "      <td>-0.523154</td>\n",
       "      <td>-0.016118</td>\n",
       "    </tr>\n",
       "    <tr>\n",
       "      <th>8</th>\n",
       "      <td>-0.688823</td>\n",
       "      <td>1.480036</td>\n",
       "      <td>0.508556</td>\n",
       "      <td>-0.117535</td>\n",
       "      <td>0.952400</td>\n",
       "    </tr>\n",
       "    <tr>\n",
       "      <th>9</th>\n",
       "      <td>-0.032875</td>\n",
       "      <td>1.196542</td>\n",
       "      <td>0.680788</td>\n",
       "      <td>0.745463</td>\n",
       "      <td>-1.431962</td>\n",
       "    </tr>\n",
       "  </tbody>\n",
       "</table>\n",
       "</div>"
      ],
      "text/plain": [
       "          0         1         2         3         4\n",
       "0 -1.208514 -0.260460 -0.156958  1.241346  0.350122\n",
       "1 -1.098389  0.429854 -0.368508 -0.174133  0.904001\n",
       "2  0.542569  0.511498  1.291356 -0.567260 -0.311110\n",
       "3  1.233387  2.247561 -0.551008 -0.363207 -0.251102\n",
       "4  0.276507 -0.209283 -2.886650  1.499314 -1.194738\n",
       "5  0.012333  1.542803 -0.710735  0.725927 -0.471423\n",
       "6  2.108661  0.067797 -0.610029  0.154998  0.436241\n",
       "7  0.333936 -0.714660  0.508593 -0.523154 -0.016118\n",
       "8 -0.688823  1.480036  0.508556 -0.117535  0.952400\n",
       "9 -0.032875  1.196542  0.680788  0.745463 -1.431962"
      ]
     },
     "execution_count": 33,
     "metadata": {},
     "output_type": "execute_result"
    }
   ],
   "source": [
    "import pandas as pd\n",
    "import numpy as np\n",
    "\n",
    "df = pd.DataFrame(np.random.randn(10,5))\n",
    "df\n",
    "\n",
    "#df.head()  # seems to only take the first 4x4"
   ]
  },
  {
   "cell_type": "markdown",
   "metadata": {},
   "source": [
    "You can export this file in different formats, so .py or .html by clicking on File>Download As>\n",
    "\n",
    "go to jupyter notebook examples and download examples to use them (like writing forum"
   ]
  }
 ],
 "metadata": {
  "kernelspec": {
   "display_name": "Python 3",
   "language": "python",
   "name": "python3"
  },
  "language_info": {
   "codemirror_mode": {
    "name": "ipython",
    "version": 3
   },
   "file_extension": ".py",
   "mimetype": "text/x-python",
   "name": "python",
   "nbconvert_exporter": "python",
   "pygments_lexer": "ipython3",
   "version": "3.7.4"
  }
 },
 "nbformat": 4,
 "nbformat_minor": 2
}
